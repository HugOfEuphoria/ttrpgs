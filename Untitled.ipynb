{
 "cells": [
  {
   "cell_type": "code",
   "execution_count": 3,
   "id": "0b4e7825-bb2f-4c8a-8538-56dfe673ddd3",
   "metadata": {},
   "outputs": [
    {
     "name": "stdout",
     "output_type": "stream",
     "text": [
      "3.13.3 (main, Apr  9 2025, 07:44:25) [GCC 14.2.1 20250207]\n"
     ]
    }
   ],
   "source": [
    "import sys\n",
    "print(sys.version)"
   ]
  },
  {
   "cell_type": "code",
   "execution_count": 32,
   "id": "5466deda-86b1-46dc-b3a6-bea10d2fcb19",
   "metadata": {},
   "outputs": [],
   "source": [
    "extensions = [\n",
    "    \"myst_nb\",            # instead of nbsphinx\n",
    "    'myst_parser',\n",
    "    'sphinx.ext.admonition',\n",
    "]\n"
   ]
  },
  {
   "cell_type": "code",
   "execution_count": 33,
   "id": "144078d1-e855-4e9d-b580-cad519d45bb0",
   "metadata": {},
   "outputs": [],
   "source": [
    "nb_custom_formats = {\n",
    "    \".md\": [\"jupytext.reads\", {\"fmt\": \"mystnb\"}],\n",
    "}\n"
   ]
  },
  {
   "cell_type": "markdown",
   "id": "60ff60fb-5faa-4ca1-835d-b33cb84070c9",
   "metadata": {},
   "source": [
    "```{note}\n",
    "Here is a note!\n"
   ]
  },
  {
   "cell_type": "code",
   "execution_count": null,
   "id": "445a7742-b154-42c2-ad76-aeb045ca8de9",
   "metadata": {},
   "outputs": [],
   "source": []
  }
 ],
 "metadata": {
  "kernelspec": {
   "display_name": "Python 3 (ipykernel)",
   "language": "python",
   "name": "python3"
  },
  "language_info": {
   "codemirror_mode": {
    "name": "ipython",
    "version": 3
   },
   "file_extension": ".py",
   "mimetype": "text/x-python",
   "name": "python",
   "nbconvert_exporter": "python",
   "pygments_lexer": "ipython3",
   "version": "3.13.3"
  },
  "widgets": {
   "application/vnd.jupyter.widget-state+json": {
    "state": {},
    "version_major": 2,
    "version_minor": 0
   }
  }
 },
 "nbformat": 4,
 "nbformat_minor": 5
}
